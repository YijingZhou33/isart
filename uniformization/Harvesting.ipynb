{
 "cells": [
  {
   "cell_type": "code",
   "execution_count": 3,
   "id": "e44c417b",
   "metadata": {},
   "outputs": [],
   "source": [
    "import pandas as pd\n",
    "import os\n",
    "import numpy as np\n",
    "import openpyxl"
   ]
  },
  {
   "cell_type": "code",
   "execution_count": 2,
   "id": "9833d2b9",
   "metadata": {},
   "outputs": [],
   "source": [
    "excel_file = 'process map.xlsx'\n",
    "rows = 585"
   ]
  },
  {
   "cell_type": "code",
   "execution_count": 3,
   "id": "6063d2f6",
   "metadata": {},
   "outputs": [],
   "source": [
    "cols_dict = {\n",
    "    'F_m': 'failure_mode',\n",
    "    'Subprocess': 'subprocess_id',\n",
    "    'Step': 'step_id',\n",
    "    'Found also in other steps such as': 'found_in_other_steps',\n",
    "    'Potential Effect': 'potential_effect',\n",
    "    'Potentail Causes': 'potentail_causes',\n",
    "    'Severity': 'severity',\n",
    "    'RPN': 'rpn',\n",
    "    'Mitigation Strategy / detaction mode': 'mitigation_strategy',\n",
    "    'Process_type': 'process_type',\n",
    "    'Software': 'software',\n",
    "    'ABR': 'abr'\n",
    "}"
   ]
  },
  {
   "cell_type": "code",
   "execution_count": 4,
   "id": "926155ad",
   "metadata": {},
   "outputs": [],
   "source": [
    "path = os.path.join('data', excel_file)\n",
    "df_excel = pd.DataFrame(pd.read_excel(path, nrows=rows, usecols=list(cols_dict.keys())))\n",
    "df_excel.rename(columns=cols_dict, inplace=True)"
   ]
  },
  {
   "cell_type": "markdown",
   "id": "c514fb1f",
   "metadata": {},
   "source": [
    "### subporcess_id"
   ]
  },
  {
   "cell_type": "code",
   "execution_count": 5,
   "id": "5be877b8",
   "metadata": {},
   "outputs": [],
   "source": [
    "df_excel['subprocess_id'] = df_excel['subprocess_id'].str.strip().str.split('.').str[0]\n",
    "df_excel.loc[df_excel['subprocess_id'].str.contains('A', na=False), 'subprocess_id'] = -1 # A.\n",
    "df_excel['subprocess_id'] = df_excel['subprocess_id'].fillna(0) # unknown "
   ]
  },
  {
   "cell_type": "markdown",
   "id": "aa3eac18",
   "metadata": {},
   "source": [
    "### step_id "
   ]
  },
  {
   "cell_type": "code",
   "execution_count": 6,
   "id": "f075c7c2",
   "metadata": {},
   "outputs": [],
   "source": [
    "df_excel['step_id'] = df_excel['step_id'].str.strip().str.split(' ').str[0].str.split('.').str[1]\n",
    "df_excel.loc[df_excel['step_id'].str.contains('A', na=False), 'step_id'] = -1 # A\n",
    "df_excel.loc[df_excel['step_id'].str.contains('\\?', na=False), 'step_id'] = 0 # unknown\n",
    "df_excel['step_id'] = df_excel['step_id'].fillna(0) # unknown "
   ]
  },
  {
   "cell_type": "markdown",
   "id": "a66b47b4",
   "metadata": {},
   "source": [
    "### process_id"
   ]
  },
  {
   "cell_type": "code",
   "execution_count": 7,
   "id": "3ff4558b",
   "metadata": {},
   "outputs": [],
   "source": [
    "df_excel['process_id'] = df_excel.\\\n",
    "apply(lambda r: (r['subprocess_id'] + '-' + r['step_id']) if r['subprocess_id'] != -1 and r['subprocess_id'] != 0 and r['step_id'] != 0 and r['step_id'] != -1 else np.NaN, axis=1)"
   ]
  },
  {
   "cell_type": "markdown",
   "id": "cf62f54a",
   "metadata": {},
   "source": [
    "### severity"
   ]
  },
  {
   "cell_type": "code",
   "execution_count": 8,
   "id": "73916132",
   "metadata": {},
   "outputs": [],
   "source": [
    "four_scale_dict = {\n",
    "    1: 1.0, # (0, 1]\n",
    "    2: 2.0, # (1, 2]\n",
    "    3: 3.0, # (2, 3]\n",
    "    4: 4.0 # (3, 4]\n",
    "}\n",
    "\n",
    "five_scale_dict = {\n",
    "    2: 1.0, # [1, 2)\n",
    "    3: 2.0, # [2, 3)\n",
    "    4: 3.0, # [3, 4)\n",
    "    6: 4.0 # [4, 6)\n",
    "}\n",
    "\n",
    "ten_scale_dict = {\n",
    "    4: 1.0, # [1, 4) \n",
    "    7: 2.0, # [4, 7)\n",
    "    9: 3.0, # [7, 9)\n",
    "    11: 4.0 # [9, 10]\n",
    "}"
   ]
  },
  {
   "cell_type": "code",
   "execution_count": 9,
   "id": "0f422c52",
   "metadata": {},
   "outputs": [
    {
     "name": "stderr",
     "output_type": "stream",
     "text": [
      "/var/folders/2s/lz9qf7xj08lfknpkfv44qn580000gn/T/ipykernel_95587/1464670255.py:1: FutureWarning: In a future version of pandas all arguments of StringMethods.split except for the argument 'pat' will be keyword-only.\n",
      "  df_excel[['severity', 'scale']] = df_excel['severity'].str.strip().str.split(' ', 1, expand=True)\n"
     ]
    }
   ],
   "source": [
    "df_excel[['severity', 'scale']] = df_excel['severity'].str.strip().str.split(' ', 1, expand=True)\n",
    "\n",
    "df_excel['severity'] = pd.to_numeric(df_excel['severity'], errors='coerce')\n",
    "df_excel['severity'] = df_excel['severity'].fillna(0) # unknown \n",
    "\n",
    "for index, row in df_excel.iterrows():\n",
    "    if row['scale'] is None or '10' in str(row['scale']):\n",
    "        for key, value in ten_scale_dict.items():\n",
    "            if row['severity'] < key:\n",
    "                df_excel.at[index, 'severity'] = value   \n",
    "                break\n",
    "    elif '4' in str(row['scale']):\n",
    "        for key, value in four_scale_dict.items():\n",
    "            if row['severity'] <= key:\n",
    "                df_excel.at[index, 'severity'] = value \n",
    "                break\n",
    "    elif '5' in str(row['scale']):\n",
    "        for key, value in five_scale_dict.items():\n",
    "            if row['severity'] < key:\n",
    "                df_excel.at[index, 'severity'] = value  \n",
    "                break\n",
    "                \n",
    "df_excel = df_excel.drop('scale', axis=1)"
   ]
  },
  {
   "cell_type": "markdown",
   "id": "c93e8995",
   "metadata": {},
   "source": [
    "### RPN"
   ]
  },
  {
   "cell_type": "code",
   "execution_count": 12,
   "id": "15f0ce24",
   "metadata": {},
   "outputs": [],
   "source": [
    "df_excel['rpn'] = df_excel['rpn'].str.strip().str.split('(').str[0].str.replace(',', '.')"
   ]
  },
  {
   "cell_type": "code",
   "execution_count": 13,
   "id": "31c43a58",
   "metadata": {},
   "outputs": [],
   "source": [
    "df_excel.to_excel(\"test.xlsx\", index=False)  "
   ]
  },
  {
   "cell_type": "code",
   "execution_count": null,
   "id": "4f0198c3",
   "metadata": {},
   "outputs": [],
   "source": []
  }
 ],
 "metadata": {
  "kernelspec": {
   "display_name": "Python [conda env:isart]",
   "language": "python",
   "name": "conda-env-isart-py"
  },
  "language_info": {
   "codemirror_mode": {
    "name": "ipython",
    "version": 3
   },
   "file_extension": ".py",
   "mimetype": "text/x-python",
   "name": "python",
   "nbconvert_exporter": "python",
   "pygments_lexer": "ipython3",
   "version": "3.11.0"
  }
 },
 "nbformat": 4,
 "nbformat_minor": 5
}
